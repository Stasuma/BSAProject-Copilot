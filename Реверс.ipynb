{
  "nbformat": 4,
  "nbformat_minor": 0,
  "metadata": {
    "colab": {
      "provenance": [],
      "authorship_tag": "ABX9TyPoG3+ksvjJ35RpBl5i8vT9",
      "include_colab_link": true
    },
    "kernelspec": {
      "name": "python3",
      "display_name": "Python 3"
    },
    "language_info": {
      "name": "python"
    }
  },
  "cells": [
    {
      "cell_type": "markdown",
      "metadata": {
        "id": "view-in-github",
        "colab_type": "text"
      },
      "source": [
        "<a href=\"https://colab.research.google.com/github/Stasuma/BSAProject-Copilot/blob/main/%D0%A0%D0%B5%D0%B2%D0%B5%D1%80%D1%81.ipynb\" target=\"_parent\"><img src=\"https://colab.research.google.com/assets/colab-badge.svg\" alt=\"Open In Colab\"/></a>"
      ]
    },
    {
      "cell_type": "markdown",
      "source": [
        "шаблон текста\n",
        "\n",
        "Я как пользователь хочу быстро писать US, чтобы экономить время"
      ],
      "metadata": {
        "id": "lUWjkymL2OEL"
      }
    },
    {
      "cell_type": "markdown",
      "source": [
        "1. реверс всей строки"
      ],
      "metadata": {
        "id": "5A8jnCPe2VJ_"
      }
    },
    {
      "cell_type": "code",
      "source": [
        "string = \"Я как пользователь хочу быстро писать US, чтобы экономить время\"\n",
        "revers = string[::-1]\n",
        "print(revers)"
      ],
      "metadata": {
        "colab": {
          "base_uri": "https://localhost:8080/"
        },
        "id": "fclLTZ8C2Uy1",
        "outputId": "2c28c4a5-2958-4a43-be23-5b0969d3f4cf"
      },
      "execution_count": 1,
      "outputs": [
        {
          "output_type": "stream",
          "name": "stdout",
          "text": [
            "ямерв ьтимонокэ ыботч ,SU ьтасип ортсыб учох ьлетавозьлоп как Я\n"
          ]
        }
      ]
    },
    {
      "cell_type": "code",
      "source": [
        "x = input()\n",
        "line = ''.join(reversed(x))\n",
        "line"
      ],
      "metadata": {
        "colab": {
          "base_uri": "https://localhost:8080/",
          "height": 52
        },
        "id": "i-Q2PCU93B_4",
        "outputId": "2ed65d4f-4ba7-4f90-a874-4c9f64539402"
      },
      "execution_count": 4,
      "outputs": [
        {
          "name": "stdout",
          "output_type": "stream",
          "text": [
            "Я как пользователь хочу быстро писать US, чтобы экономить время\n"
          ]
        },
        {
          "output_type": "execute_result",
          "data": {
            "text/plain": [
              "'ямерв ьтимонокэ ыботч ,SU ьтасип ортсыб учох ьлетавозьлоп как Я'"
            ],
            "application/vnd.google.colaboratory.intrinsic+json": {
              "type": "string"
            }
          },
          "metadata": {},
          "execution_count": 4
        }
      ]
    },
    {
      "cell_type": "markdown",
      "source": [
        "2. реверс букв в словах строки с сохранением последовательности"
      ],
      "metadata": {
        "id": "w14a20Go2kFA"
      }
    },
    {
      "cell_type": "code",
      "execution_count": 2,
      "metadata": {
        "colab": {
          "base_uri": "https://localhost:8080/"
        },
        "id": "fMWeYU4R160C",
        "outputId": "ba0930b0-8ec4-4b8a-844e-2dc330e55c02"
      },
      "outputs": [
        {
          "output_type": "stream",
          "name": "stdout",
          "text": [
            "\"Я как пользователь хочу быстро писать US, чтобы экономить время\"\n",
            "Я\" как ьлетавозьлоп учох ортсыб ьтасип ,SU ыботч ьтимонокэ \"ямерв "
          ]
        }
      ],
      "source": [
        "string=input()\n",
        "for n in string.split():\n",
        "    print(n[::-1],end=' ')"
      ]
    }
  ]
}