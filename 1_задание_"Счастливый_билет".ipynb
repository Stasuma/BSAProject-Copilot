{
  "nbformat": 4,
  "nbformat_minor": 0,
  "metadata": {
    "colab": {
      "provenance": [],
      "authorship_tag": "ABX9TyMDqnBwM+q2Z6YP7nQ6d+oz",
      "include_colab_link": true
    },
    "kernelspec": {
      "name": "python3",
      "display_name": "Python 3"
    },
    "language_info": {
      "name": "python"
    }
  },
  "cells": [
    {
      "cell_type": "markdown",
      "metadata": {
        "id": "view-in-github",
        "colab_type": "text"
      },
      "source": [
        "<a href=\"https://colab.research.google.com/github/Stasuma/BSAProject-Copilot/blob/main/1_%D0%B7%D0%B0%D0%B4%D0%B0%D0%BD%D0%B8%D0%B5_%22%D0%A1%D1%87%D0%B0%D1%81%D1%82%D0%BB%D0%B8%D0%B2%D1%8B%D0%B9_%D0%B1%D0%B8%D0%BB%D0%B5%D1%82%22.ipynb\" target=\"_parent\"><img src=\"https://colab.research.google.com/assets/colab-badge.svg\" alt=\"Open In Colab\"/></a>"
      ]
    },
    {
      "cell_type": "markdown",
      "source": [
        "1 задание - \"Счастливый билет\""
      ],
      "metadata": {
        "id": "Wqc6F1EfKFM6"
      }
    },
    {
      "cell_type": "markdown",
      "source": [
        "\"Счастливым\" называют билет с номером, в котором сумма первой половины цифр равна сумме второй половины цифр. Номера могут быть произвольной длины. Единственное условие — количество цифр всегда четно, например: 33 или 2341.\n",
        "\n",
        "Билет с номером 385916 — счастливый, так как 3 + 8 + 5 == 9 + 1 + 6. Билет с номером 231002 не является счастливым, так как 2 + 3 + 1 != 0 + 0 + 2.\n",
        "\n",
        "Реализуйте функцию is_happy_ticket(), проверяющую является ли номер счастливым (номер — всегда строка). Функция должна возвращать True, если билет счастливый, или False, если нет.\n",
        "\n",
        "Подразумевается, что данные на входе всегда корректны, поэтому дополнительные проверки не требуются.\n"
      ],
      "metadata": {
        "id": "p8lfKT-RKEae"
      }
    },
    {
      "cell_type": "markdown",
      "source": [
        "Итоговый код\n",
        "\n",
        "Для того, чтобы убедиться в корректности выведенного ответа, дополнительно вывела\n",
        "- введённое число\n",
        "- сумму первой половины чётного билета\n",
        "- сумму второй половины чётного билета\n",
        "- итог (True, False)"
      ],
      "metadata": {
        "id": "6a_EaImQzINq"
      }
    },
    {
      "cell_type": "code",
      "source": [
        "def is_happy_ticket():\n",
        "  a = str(input('Введите номер билета: '))\n",
        "  d = len(a)\n",
        "  if d % 2 == 0:\n",
        "    part_sum1 = sum(float(x) for x in a[:d//2])\n",
        "    part_sum2 = sum(float(x) for x in a[d//2:])\n",
        "    if part_sum1 == part_sum2:\n",
        "      print ('Сумма перовй половины билета: ', part_sum1, 'Сумма второй половины билета: ', part_sum2, \"Билет счастливый? \", 'True', sep='\\n')\n",
        "    else:\n",
        "      print ('Сумма перовй половины билета: ', part_sum1, 'Сумма второй половины билета: ', part_sum2, \"Билет счастливый? \", 'False', sep='\\n')\n",
        "  else:\n",
        "    print ('Длина билета нечётная')\n",
        "is_happy_ticket()\n",
        "\n",
        "\n"
      ],
      "metadata": {
        "colab": {
          "base_uri": "https://localhost:8080/"
        },
        "id": "ZjUyFOUv8GV1",
        "outputId": "7ef653a6-52da-4649-cd87-4cfbd9f963d0"
      },
      "execution_count": 66,
      "outputs": [
        {
          "output_type": "stream",
          "name": "stdout",
          "text": [
            "Введите номер билета: 2314\n",
            "Сумма перовй половины билета: \n",
            "5.0\n",
            "Сумма второй половины билета: \n",
            "5.0\n",
            "Билет счастливый? \n",
            "True\n"
          ]
        }
      ]
    },
    {
      "cell_type": "code",
      "source": [
        "is_happy_ticket()\n"
      ],
      "metadata": {
        "colab": {
          "base_uri": "https://localhost:8080/"
        },
        "id": "X7nTRcnn_Msa",
        "outputId": "6c68d803-e0de-4089-cedb-3650873c9e4c"
      },
      "execution_count": 68,
      "outputs": [
        {
          "output_type": "stream",
          "name": "stdout",
          "text": [
            "Введите номер билета: 165437\n",
            "Сумма перовй половины билета: \n",
            "12.0\n",
            "Сумма второй половины билета: \n",
            "14.0\n",
            "Билет счастливый? \n",
            "False\n"
          ]
        }
      ]
    },
    {
      "cell_type": "markdown",
      "source": [
        "Ниже этапы.\n",
        "\n",
        "!К ревью не относятся!"
      ],
      "metadata": {
        "id": "m0KWh0f4zLsa"
      }
    },
    {
      "cell_type": "markdown",
      "source": [
        "чётный/нечётный"
      ],
      "metadata": {
        "id": "Vo37DTs5yq-v"
      }
    },
    {
      "cell_type": "code",
      "execution_count": 5,
      "metadata": {
        "colab": {
          "base_uri": "https://localhost:8080/"
        },
        "id": "aPQLc-ZFJ-hc",
        "outputId": "179cc9a4-a79e-4281-aaf6-c7b13204d93e"
      },
      "outputs": [
        {
          "output_type": "stream",
          "name": "stdout",
          "text": [
            "Введите номер билета: 1234\n",
            "True\n"
          ]
        }
      ],
      "source": [
        "a = str(input('Введите номер билета: '))\n",
        "\n",
        "#проверка длины строки\n",
        "d = len(a)\n",
        "if d % 2 == 0:\n",
        "  print ('True')\n",
        "else:\n",
        "  print ('длина билета нечётная')"
      ]
    },
    {
      "cell_type": "code",
      "execution_count": 6,
      "metadata": {
        "colab": {
          "base_uri": "https://localhost:8080/"
        },
        "outputId": "3ca9ae18-dbae-4cba-91f8-dc0ef7ee3a2c",
        "id": "KunkVrEgMvT8"
      },
      "outputs": [
        {
          "output_type": "stream",
          "name": "stdout",
          "text": [
            "Введите номер билета: 1234\n",
            "1234 \n"
          ]
        }
      ],
      "source": [
        "a = str(input('Введите номер билета: '))\n",
        "\n",
        "#проверка длины строки\n",
        "lenstr = len(a)\n",
        "if lenstr % 2 == 0:\n",
        "  part_1 = a[:lenstr]\n",
        "  part_2 = a[lenstr:]\n",
        "  print (part_1, part_2)\n",
        "\n",
        "else:\n",
        "  print ('длина билета нечётная')"
      ]
    },
    {
      "cell_type": "markdown",
      "source": [
        "разделить на 2 части"
      ],
      "metadata": {
        "id": "REJW8df7fYnH"
      }
    },
    {
      "cell_type": "code",
      "source": [
        "a = str(input('Введите номер билета: '))\n",
        "d = len(a)\n",
        "part1 = a[:d//2]\n",
        "part2 = a[d//2:]\n",
        "print (part1, part2)"
      ],
      "metadata": {
        "colab": {
          "base_uri": "https://localhost:8080/"
        },
        "id": "dLNIWzKYecBy",
        "outputId": "89f5152c-b678-4064-a982-4d6ce67a87e6"
      },
      "execution_count": 15,
      "outputs": [
        {
          "output_type": "stream",
          "name": "stdout",
          "text": [
            "Введите номер билета: 1234\n",
            "12 34\n"
          ]
        }
      ]
    },
    {
      "cell_type": "markdown",
      "source": [
        "просуммировать разделённые части"
      ],
      "metadata": {
        "id": "KQT4EOXMljRu"
      }
    },
    {
      "cell_type": "code",
      "source": [
        "a = str(input('Введите номер билета: '))\n",
        "d = len(a)\n",
        "part1 = a[:d//2]\n",
        "part2 = a[d//2:]\n",
        "\n",
        "nums_sum = sum(float(x) for x in part1)\n",
        "nums_sum"
      ],
      "metadata": {
        "colab": {
          "base_uri": "https://localhost:8080/"
        },
        "id": "dgfsg05CgPvD",
        "outputId": "40272ae2-23b9-4af9-dac0-a8a9bfe2cc47"
      },
      "execution_count": 20,
      "outputs": [
        {
          "name": "stdout",
          "output_type": "stream",
          "text": [
            "Введите номер билета: 1234\n"
          ]
        },
        {
          "output_type": "execute_result",
          "data": {
            "text/plain": [
              "3.0"
            ]
          },
          "metadata": {},
          "execution_count": 20
        }
      ]
    },
    {
      "cell_type": "markdown",
      "source": [
        "разделить строку пополам, переведя в тип float"
      ],
      "metadata": {
        "id": "bnkM7moJx_9Z"
      }
    },
    {
      "cell_type": "code",
      "source": [
        "a = str(input('Введите номер билета: '))\n",
        "d = len(a)\n",
        "\n",
        "part_sum1 = sum(float(x) for x in a[:d//2])\n",
        "part_sum2 = sum(float(x) for x in a[d//2:])\n",
        "\n",
        "print(part_sum1)\n",
        "print(part_sum2)\n",
        "\n",
        "#nums_sum"
      ],
      "metadata": {
        "colab": {
          "base_uri": "https://localhost:8080/"
        },
        "id": "Vcl_7ZOQmfo5",
        "outputId": "383bbaf0-c485-4c75-82e7-4e06395f840e"
      },
      "execution_count": 50,
      "outputs": [
        {
          "output_type": "stream",
          "name": "stdout",
          "text": [
            "Введите номер билета: 1234\n",
            "3.0\n",
            "7.0\n"
          ]
        }
      ]
    },
    {
      "cell_type": "markdown",
      "source": [
        "разделить на разные длины"
      ],
      "metadata": {
        "id": "VvIyQRjK3Qq3"
      }
    },
    {
      "cell_type": "code",
      "source": [
        "a = str(input('Введите номер билета: ')) #ввести число длиной больше 4, чтобы первый срез не был нулевым\n",
        "d = len(a)\n",
        "\n",
        "part_sum1 = sum(float(x) for x in a[:d//4]) #в срез войдут числа, которые при порядковом счёте справа налево будут больше 4\n",
        "part_sum2 = sum(float(x) for x in a[d//2:]) #в срез войдут числа, которые при порядковом счёте слева направо будут больше 2\n",
        "\n",
        "print(part_sum1)\n",
        "print(part_sum2)\n",
        "\n",
        "#nums_sum"
      ],
      "metadata": {
        "colab": {
          "base_uri": "https://localhost:8080/"
        },
        "id": "zso8csXZ3Wii",
        "outputId": "14cdf3f4-2ddb-4a03-a814-e98d5035f597"
      },
      "execution_count": 56,
      "outputs": [
        {
          "output_type": "stream",
          "name": "stdout",
          "text": [
            "Введите номер билета: 1234\n",
            "1.0\n",
            "7.0\n"
          ]
        }
      ]
    },
    {
      "cell_type": "markdown",
      "source": [
        "Что делает:\n",
        "- проверка четный/нечётный\n",
        "- у чётного разбивает пополам, переводит в число и суммирует"
      ],
      "metadata": {
        "id": "ioxugoGHoWUh"
      }
    },
    {
      "cell_type": "code",
      "source": [
        "a = str(input('Введите номер билета: '))\n",
        "d = len(a)\n",
        "if d % 2 == 0:\n",
        "  part_sum1 = sum(float(x) for x in a[:d//2])\n",
        "  part_sum2 = sum(float(x) for x in a[d//2:])\n",
        "  # print(part_sum1)\n",
        "  # print(part_sum2)\n",
        "  if part_sum1 == part_sum2:\n",
        "    print ('Сумма перовй половины билета: ', part_sum1, 'Сумма второй половины билета: ', part_sum2, \"Билет счастливый? \", 'True', sep='\\n')\n",
        "  else:\n",
        "    print ('Сумма перовй половины билета: ', part_sum1, 'Сумма второй половины билета: ', part_sum2, \"Билет счастливый? \", 'False', sep='\\n')\n",
        "\n",
        "else:\n",
        "  print ('длина билета нечётная')"
      ],
      "metadata": {
        "colab": {
          "base_uri": "https://localhost:8080/"
        },
        "outputId": "899aa0b4-71e6-41e5-e66a-6f6db1686827",
        "id": "bN9G21qIn5cA"
      },
      "execution_count": 44,
      "outputs": [
        {
          "output_type": "stream",
          "name": "stdout",
          "text": [
            "Введите номер билета: 1978\n",
            "Сумма перовй половины билета: \n",
            "10.0\n",
            "Сумма второй половины билета: \n",
            "15.0\n",
            "Билет счастливый? \n",
            "False\n"
          ]
        }
      ]
    },
    {
      "cell_type": "markdown",
      "source": [
        "\"обернуть в оболочку\" функции"
      ],
      "metadata": {
        "id": "U3cXZRtZx4Lw"
      }
    },
    {
      "cell_type": "code",
      "source": [
        "a = str(input('Введите номер билета: '))\n",
        "d = len(a)\n",
        "def is_happy_ticket():\n",
        "  if d % 2 == 0:\n",
        "    part_sum1 = sum(float(x) for x in a[:d//2])\n",
        "    part_sum2 = sum(float(x) for x in a[d//2:])\n",
        "    if part_sum1 == part_sum2:\n",
        "      print ('Сумма перовй половины билета: ', part_sum1, 'Сумма второй половины билета: ', part_sum2, \"Билет счастливый? \", 'True', sep='\\n')\n",
        "    else:\n",
        "      print ('Сумма перовй половины билета: ', part_sum1, 'Сумма второй половины билета: ', part_sum2, \"Билет счастливый? \", 'False', sep='\\n')\n",
        "  else:\n",
        "    print ('длина билета нечётная')\n",
        "is_happy_ticket()"
      ],
      "metadata": {
        "colab": {
          "base_uri": "https://localhost:8080/"
        },
        "id": "hVjtiTU2xX_G",
        "outputId": "e55a1cdd-04b2-4dbe-b4ad-6e7cfd208b73"
      },
      "execution_count": 39,
      "outputs": [
        {
          "output_type": "stream",
          "name": "stdout",
          "text": [
            "Введите номер билета: 1423\n",
            "Сумма перовй половины билета: \n",
            "5.0\n",
            "Сумма второй половины билета: \n",
            "5.0\n",
            "Билет счастливый? \n",
            "True\n"
          ]
        }
      ]
    }
  ]
}