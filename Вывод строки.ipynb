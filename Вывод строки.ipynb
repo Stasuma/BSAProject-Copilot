{
 "cells": [
  {
   "cell_type": "markdown",
   "id": "c497b148",
   "metadata": {},
   "source": [
    "Необходимый результат: Я как пользователь хочу быстро писать US, чтобы экономить время"
   ]
  },
  {
   "cell_type": "code",
   "execution_count": null,
   "id": "fc1c5f36",
   "metadata": {},
   "outputs": [],
   "source": [
    "#Я как (кто,), хочу (что?), чтобы (что?)\" \n",
    "role = input('Введите роль, от лица которого исходит требование')  \n",
    "wish = input('Введите желаемое требование') \n",
    "result = input('Введите желаемый результат') \n",
    "print('Я как', role, 'хочу', wish, ',', 'чтобы', result)"
   ]
  },
  {
   "cell_type": "markdown",
   "id": "a653cff1",
   "metadata": {},
   "source": [
    "Удаление пробела между знаками препинания"
   ]
  },
  {
   "cell_type": "code",
   "execution_count": null,
   "id": "680bd888",
   "metadata": {},
   "outputs": [],
   "source": [
    "# Я как (кто,), хочу (что?), чтобы (что?)\" \n",
    "role = input('Введите роль, от лица которого исходит требование, отвечающую на вопрос \"Я как?\" - ')  \n",
    "wish = input('Введите желаемое требование, отвечающее на вопрос \"Хочу что?\" - ') \n",
    "result = input('Введите желаемый результат, отвечающий на вопрос \"Чтобы что?\" - ') \n",
    "print ('Итоговый результат:') \n",
    "print('Я как '+role+' хочу '+wish+', чтобы '+result+'')"
   ]
  },
  {
   "cell_type": "code",
   "execution_count": null,
   "id": "dd2d1e07",
   "metadata": {},
   "outputs": [],
   "source": [
    "print('Я как '+input('Введите роль, от лица которой исходит требование: ')+' хочу '+input('Введите желаемое требование: ')+', чтобы '+input('Введите желаемый результат: ')+'')"
   ]
  }
 ],
 "metadata": {
  "kernelspec": {
   "display_name": "Python 3",
   "language": "python",
   "name": "python3"
  },
  "language_info": {
   "codemirror_mode": {
    "name": "ipython",
    "version": 3
   },
   "file_extension": ".py",
   "mimetype": "text/x-python",
   "name": "python",
   "nbconvert_exporter": "python",
   "pygments_lexer": "ipython3",
   "version": "3.8.8"
  }
 },
 "nbformat": 4,
 "nbformat_minor": 5
}
