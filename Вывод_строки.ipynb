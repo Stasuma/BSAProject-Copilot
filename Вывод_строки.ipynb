{
  "nbformat": 4,
  "nbformat_minor": 0,
  "metadata": {
    "colab": {
      "provenance": [],
      "authorship_tag": "ABX9TyMwi8hBF1jv6Umkg/FCUQF8",
      "include_colab_link": true
    },
    "kernelspec": {
      "name": "python3",
      "display_name": "Python 3"
    },
    "language_info": {
      "name": "python"
    }
  },
  "cells": [
    {
      "cell_type": "markdown",
      "metadata": {
        "id": "view-in-github",
        "colab_type": "text"
      },
      "source": [
        "<a href=\"https://colab.research.google.com/github/Stasuma/BSAProject-Copilot/blob/main/%D0%92%D1%8B%D0%B2%D0%BE%D0%B4_%D1%81%D1%82%D1%80%D0%BE%D0%BA%D0%B8.ipynb\" target=\"_parent\"><img src=\"https://colab.research.google.com/assets/colab-badge.svg\" alt=\"Open In Colab\"/></a>"
      ]
    },
    {
      "cell_type": "markdown",
      "source": [
        "Необходимый результат: Я как пользователь хочу быстро писать US, чтобы экономить время"
      ],
      "metadata": {
        "id": "NCpHvY1t5f2M"
      }
    },
    {
      "cell_type": "code",
      "execution_count": 2,
      "metadata": {
        "colab": {
          "base_uri": "https://localhost:8080/"
        },
        "id": "LMyji2g948It",
        "outputId": "596c6d86-73f5-473e-c5bb-5369e8003275"
      },
      "outputs": [
        {
          "output_type": "stream",
          "name": "stdout",
          "text": [
            "Введите роль, от лица которого исходит требование: пользователь\n",
            "Введите желаемое требование: быстро писать US\n",
            "Введите желаемый результат: экономить время\n",
            "Я как пользователь хочу быстро писать US , чтобы экономить время\n"
          ]
        }
      ],
      "source": [
        "#Я как (кто,), хочу (что?), чтобы (что?)\"\n",
        "role = input('Введите роль, от лица которого исходит требование: ')\n",
        "wish = input('Введите желаемое требование: ')\n",
        "result = input('Введите желаемый результат: ')\n",
        "print('Я как', role, 'хочу', wish, ',', 'чтобы', result)"
      ]
    },
    {
      "cell_type": "markdown",
      "source": [
        "Удаление пробела между знаками препинания"
      ],
      "metadata": {
        "id": "0800uQPt561I"
      }
    },
    {
      "cell_type": "markdown",
      "source": [
        "1 вариант"
      ],
      "metadata": {
        "id": "fXGFWw0R6Ivc"
      }
    },
    {
      "cell_type": "code",
      "source": [
        "# Я как (кто,), хочу (что?), чтобы (что?)\"\n",
        "role = input('Введите роль, от лица которого исходит требование, отвечающую на вопрос \"Я как?\" - ')\n",
        "wish = input('Введите желаемое требование, отвечающее на вопрос \"Хочу что?\" - ')\n",
        "result = input('Введите желаемый результат, отвечающий на вопрос \"Чтобы что?\" - ')\n",
        "print ('Итоговый результат:')\n",
        "print('Я как '+role+' хочу '+wish+', чтобы '+result+'')"
      ],
      "metadata": {
        "colab": {
          "base_uri": "https://localhost:8080/"
        },
        "id": "vb2Pzzw957Qs",
        "outputId": "ebddf369-3bd6-4cd4-d6fa-f069c66921df"
      },
      "execution_count": 3,
      "outputs": [
        {
          "output_type": "stream",
          "name": "stdout",
          "text": [
            "Введите роль, от лица которого исходит требование, отвечающую на вопрос \"Я как?\" - пользователь\n",
            "Введите желаемое требование, отвечающее на вопрос \"Хочу что?\" - быстро писать US\n",
            "Введите желаемый результат, отвечающий на вопрос \"Чтобы что?\" - экономить время\n",
            "Итоговый результат:\n",
            "Я как пользователь хочу быстро писать US, чтобы экономить время\n"
          ]
        }
      ]
    },
    {
      "cell_type": "markdown",
      "source": [
        "2 вариант"
      ],
      "metadata": {
        "id": "vLo87irP6Lrq"
      }
    },
    {
      "cell_type": "code",
      "source": [
        "print('Я как '+input('Введите роль, от лица которой исходит требование: ')+' хочу '+input('Введите желаемое требование: ')+', чтобы '+input('Введите желаемый результат: ')+'')"
      ],
      "metadata": {
        "colab": {
          "base_uri": "https://localhost:8080/"
        },
        "id": "u1QYochm6RA0",
        "outputId": "9e0d4832-464f-4b1e-b0d6-9843d6b1f221"
      },
      "execution_count": 4,
      "outputs": [
        {
          "output_type": "stream",
          "name": "stdout",
          "text": [
            "Введите роль, от лица которой исходит требование: пользователь\n",
            "Введите желаемое требование: быстро писать US\n",
            "Введите желаемый результат: экономить время\n",
            "Я как пользователь хочу быстро писать US, чтобы экономить время\n"
          ]
        }
      ]
    }
  ]
}